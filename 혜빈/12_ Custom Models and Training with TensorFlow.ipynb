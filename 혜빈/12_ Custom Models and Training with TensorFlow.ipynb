{
 "cells": [
  {
   "cell_type": "code",
   "execution_count": 1,
   "id": "ce13f636-4955-4992-910f-764b19b5b487",
   "metadata": {},
   "outputs": [],
   "source": [
    "import tensorflow as tf\n",
    "import matplotlib.pyplot as plt\n",
    "\n",
    "plt.rc('font', family='AppleGothic')\n",
    "plt.rcParams['axes.unicode_minus'] = False"
   ]
  },
  {
   "cell_type": "markdown",
   "id": "128ade2c-ec55-40a4-bfc1-01982e948a49",
   "metadata": {},
   "source": [
    "# Using TensorFlow like NumPy\n",
    "텐서는 넘파이와 매우 비슷하다. 즉 텐서는 다차원 배열이다. 하지만 스칼라 값도 가질 수 있다.\n",
    "\n",
    "## 1. 텐서와 연산\n",
    "tf.constant() 함수로 텐서를 만들 수 있다.<br>\n",
    "⬇︎ "
   ]
  },
  {
   "cell_type": "code",
   "execution_count": 2,
   "id": "ecb459b2-30dd-42dc-9980-ec8a5c390ccd",
   "metadata": {},
   "outputs": [
    {
     "data": {
      "text/plain": [
       "<tf.Tensor: shape=(2, 3), dtype=float32, numpy=\n",
       "array([[1., 2., 3.],\n",
       "       [4., 5., 6.]], dtype=float32)>"
      ]
     },
     "execution_count": 2,
     "metadata": {},
     "output_type": "execute_result"
    }
   ],
   "source": [
    "t = tf.constant([[1.,2.,3.],[4.,5.,6.]])\n",
    "t"
   ]
  },
  {
   "cell_type": "code",
   "execution_count": 5,
   "id": "3c09aee9-a037-41b5-bad1-9d8d6cc758b7",
   "metadata": {},
   "outputs": [
    {
     "name": "stdout",
     "output_type": "stream",
     "text": [
      "(2, 3) <dtype: 'float32'>\n"
     ]
    }
   ],
   "source": [
    "print(t.shape, t.dtype)"
   ]
  },
  {
   "cell_type": "code",
   "execution_count": 11,
   "id": "00e1df95-a80f-49db-823d-251e74c08404",
   "metadata": {},
   "outputs": [
    {
     "data": {
      "text/plain": [
       "<tf.Tensor: shape=(2, 2), dtype=float32, numpy=\n",
       "array([[1., 2.],\n",
       "       [4., 5.]], dtype=float32)>"
      ]
     },
     "execution_count": 11,
     "metadata": {},
     "output_type": "execute_result"
    }
   ],
   "source": [
    "t[:,1]\n",
    "t[:2,:2]"
   ]
  },
  {
   "cell_type": "code",
   "execution_count": 15,
   "id": "ce054a88-3f8a-43c4-a50e-66b24264eec1",
   "metadata": {},
   "outputs": [
    {
     "data": {
      "text/plain": [
       "<tf.Tensor: shape=(2, 3), dtype=float32, numpy=\n",
       "array([[11., 12., 13.],\n",
       "       [14., 15., 16.]], dtype=float32)>"
      ]
     },
     "execution_count": 15,
     "metadata": {},
     "output_type": "execute_result"
    }
   ],
   "source": [
    "# 연산\n",
    "t+10\n",
    "tf.add(t,10) # 위의 연산과 같은 결과"
   ]
  },
  {
   "cell_type": "code",
   "execution_count": 16,
   "id": "99433fda-589b-4c6a-a6f7-0c181592ed7c",
   "metadata": {},
   "outputs": [
    {
     "data": {
      "text/plain": [
       "<tf.Tensor: shape=(2, 3), dtype=float32, numpy=\n",
       "array([[ 1.,  4.,  9.],\n",
       "       [16., 25., 36.]], dtype=float32)>"
      ]
     },
     "execution_count": 16,
     "metadata": {},
     "output_type": "execute_result"
    }
   ],
   "source": [
    "tf.square(t)"
   ]
  },
  {
   "cell_type": "code",
   "execution_count": 17,
   "id": "1c933dd1-f941-4c68-9574-1986647582f0",
   "metadata": {},
   "outputs": [
    {
     "data": {
      "text/plain": [
       "<tf.Tensor: shape=(2, 2), dtype=float32, numpy=\n",
       "array([[14., 32.],\n",
       "       [32., 77.]], dtype=float32)>"
      ]
     },
     "execution_count": 17,
     "metadata": {},
     "output_type": "execute_result"
    }
   ],
   "source": [
    "t @ tf.transpose(t)"
   ]
  },
  {
   "cell_type": "code",
   "execution_count": 18,
   "id": "8330a20b-5b2c-4a5a-a4c2-602664a7ce8d",
   "metadata": {},
   "outputs": [
    {
     "data": {
      "text/plain": [
       "<tf.Tensor: shape=(3, 2), dtype=float32, numpy=\n",
       "array([[1., 4.],\n",
       "       [2., 5.],\n",
       "       [3., 6.]], dtype=float32)>"
      ]
     },
     "execution_count": 18,
     "metadata": {},
     "output_type": "execute_result"
    }
   ],
   "source": [
    "tf.transpose(t)"
   ]
  },
  {
   "cell_type": "markdown",
   "id": "90569bb5-a789-4807-849a-ff79b2ef5840",
   "metadata": {},
   "source": [
    "tf.transpose(t)라고 써야 한다. 넘파이 처럼 t.T라고 쓰면 안된다. 그 이유는 tf.transpose() 함수가 넘파이 T 속성과 완전히 동일한 작업을 수행하지 않기 때문이다. <br>\n",
    "- 텐서플로에서는 전치된 데이터의 복사본으로 새로운 텐서가 만들어지지만 넘파이에서 t.T는 동일한 데이터의 전치된 view일 뿐이다.\n",
    "- 비슷하게 tf.reduce_sum() 연산으로 이름 지은 것은 이 GPU 커널이 원소가 추가된 순서를 보장하지 않는 reduce 알고리즘을 사용하기 때문이다.\n",
    "\n",
    "## 2. 텐서와 넘파이\n",
    "넘파이 배열로 텐서를 만들 수 있고 그 반대도 가능하다. 또한 넘파이 배열에 텐서플로 연산을 할 수 있고 그 반대도 가능하다."
   ]
  },
  {
   "cell_type": "code",
   "execution_count": 20,
   "id": "f44d7374-f6ad-498b-883c-76d103852ef9",
   "metadata": {},
   "outputs": [
    {
     "data": {
      "text/plain": [
       "<tf.Tensor: shape=(3,), dtype=float64, numpy=array([2., 4., 5.])>"
      ]
     },
     "execution_count": 20,
     "metadata": {},
     "output_type": "execute_result"
    }
   ],
   "source": [
    "import numpy as np\n",
    "\n",
    "a = np.array([2., 4., 5.])\n",
    "tf.constant(a) # tf"
   ]
  },
  {
   "cell_type": "code",
   "execution_count": 25,
   "id": "4b58c741-c8d7-4662-9a05-9a2d62b203b8",
   "metadata": {},
   "outputs": [
    {
     "data": {
      "text/plain": [
       "array([[1., 2., 3.],\n",
       "       [4., 5., 6.]], dtype=float32)"
      ]
     },
     "execution_count": 25,
     "metadata": {},
     "output_type": "execute_result"
    }
   ],
   "source": [
    "t.numpy()\n",
    "np.array(t) # 위 코드와 같은 결과"
   ]
  },
  {
   "cell_type": "code",
   "execution_count": 27,
   "id": "33cc0fec-ed0b-44dd-93a1-14e3573e1714",
   "metadata": {},
   "outputs": [
    {
     "data": {
      "text/plain": [
       "array([[ 1.,  4.,  9.],\n",
       "       [16., 25., 36.]], dtype=float32)"
      ]
     },
     "execution_count": 27,
     "metadata": {},
     "output_type": "execute_result"
    }
   ],
   "source": [
    "tf.square(a) # tf\n",
    "np.square(t) # np"
   ]
  },
  {
   "cell_type": "markdown",
   "id": "76cd8a96-0f6a-4fb9-ad47-ed51f2e7b117",
   "metadata": {},
   "source": [
    "## 3. 타입 변환\n",
    "텐서플로는 어떤 타입 변환도 자동으로 수행하지 않는다. \n",
    "- 실수 텐서와 정수 텐서는 더할 수 없다.\n",
    "- 32비트 실수와 64비트 실수도 더할 수 없다."
   ]
  },
  {
   "cell_type": "code",
   "execution_count": 32,
   "id": "7dcd58ef-c996-435d-b00b-45a71f928e86",
   "metadata": {},
   "outputs": [],
   "source": [
    "# float + int 불가능\n",
    "# tf.constant(2.) + tf.constant(4) \n",
    "# 32bit float + 64bit float 불가능\n",
    "# tf.constant(2.) + tf.constant(2., dtype=tf.float64)"
   ]
  },
  {
   "cell_type": "markdown",
   "id": "e92e701f-35c3-43c8-91c4-e82b8c633e48",
   "metadata": {},
   "source": [
    "## 4. 변수\n",
    "위의 tf.Tensor는 변경이 불가능한 객체이다. 따라서 일반적인 텐서로는 역전파로 변경되어야 하는 신경망의 가중치를 구할 수 없다. 때문에 tf.Variable이 필요하다.\n",
    "- assign() 메서드를 이용하여 변숫값을 바꿀 수 있다.<br>\n",
    "흠,,근데 v[0, 1].assign(42) 연산이 안된다...?"
   ]
  },
  {
   "cell_type": "code",
   "execution_count": 33,
   "id": "2d12791b-42d6-4333-a7d4-e30047526fdc",
   "metadata": {},
   "outputs": [
    {
     "data": {
      "text/plain": [
       "<tf.Variable 'Variable:0' shape=(2, 3) dtype=float32, numpy=\n",
       "array([[1., 2., 3.],\n",
       "       [4., 5., 6.]], dtype=float32)>"
      ]
     },
     "execution_count": 33,
     "metadata": {},
     "output_type": "execute_result"
    }
   ],
   "source": [
    "v = tf.Variable([[1.,2.,3.],[4.,5.,6.]])\n",
    "v"
   ]
  },
  {
   "cell_type": "code",
   "execution_count": 34,
   "id": "508af760-23f6-440a-a0a6-7519f2dc38d8",
   "metadata": {},
   "outputs": [
    {
     "data": {
      "text/plain": [
       "<tf.Variable 'UnreadVariable' shape=(2, 3) dtype=float32, numpy=\n",
       "array([[ 2.,  4.,  6.],\n",
       "       [ 8., 10., 12.]], dtype=float32)>"
      ]
     },
     "execution_count": 34,
     "metadata": {},
     "output_type": "execute_result"
    }
   ],
   "source": [
    "v.assign(2*v)"
   ]
  },
  {
   "cell_type": "code",
   "execution_count": 46,
   "id": "8b135e97-3bff-4bba-847b-94fdf367fc55",
   "metadata": {},
   "outputs": [
    {
     "data": {
      "text/plain": [
       "<tf.Variable 'UnreadVariable' shape=(2, 3) dtype=float32, numpy=\n",
       "array([[100.,   4.,   6.],\n",
       "       [  8.,  10., 200.]], dtype=float32)>"
      ]
     },
     "execution_count": 46,
     "metadata": {},
     "output_type": "execute_result"
    }
   ],
   "source": [
    "v.scatter_nd_update(\n",
    "    indices=[[0, 0], [1, 2]], updates=[100., 200.])"
   ]
  },
  {
   "cell_type": "code",
   "execution_count": 49,
   "id": "9d6532c6-66fd-4da5-a0a1-904d4be7cf70",
   "metadata": {},
   "outputs": [
    {
     "data": {
      "text/plain": [
       "<tf.Variable 'UnreadVariable' shape=(2, 3) dtype=float32, numpy=\n",
       "array([[100., 500.,   6.],\n",
       "       [  8.,  10., 200.]], dtype=float32)>"
      ]
     },
     "execution_count": 49,
     "metadata": {},
     "output_type": "execute_result"
    }
   ],
   "source": [
    "v.scatter_nd_update(\n",
    "   indices=[[0,1]], updates=[500])"
   ]
  },
  {
   "cell_type": "code",
   "execution_count": 56,
   "id": "407ab47a-1259-4a29-a6e2-179e11958339",
   "metadata": {},
   "outputs": [
    {
     "name": "stdout",
     "output_type": "stream",
     "text": [
      "IndexedSlices(indices=[1, 0], values=[[1.0, 2.0, 3.0], [4.0, 5.0, 6.0]])\n"
     ]
    },
    {
     "data": {
      "text/plain": [
       "<tf.Variable 'UnreadVariable' shape=(2, 3) dtype=float32, numpy=\n",
       "array([[4., 5., 6.],\n",
       "       [1., 2., 3.]], dtype=float32)>"
      ]
     },
     "execution_count": 56,
     "metadata": {},
     "output_type": "execute_result"
    }
   ],
   "source": [
    "sparse_delta = tf.IndexedSlices(values=[[1., 2., 3.], [4., 5., 6.]],\n",
    "                                indices=[1, 0])\n",
    "print(sparse_delta)\n",
    "v.scatter_update(sparse_delta)"
   ]
  },
  {
   "cell_type": "code",
   "execution_count": 57,
   "id": "61de9b79-d4c5-4344-9c65-aa24ea183208",
   "metadata": {},
   "outputs": [
    {
     "data": {
      "text/plain": [
       "<tf.Variable 'Variable:0' shape=(2, 3) dtype=float32, numpy=\n",
       "array([[4., 5., 6.],\n",
       "       [1., 2., 3.]], dtype=float32)>"
      ]
     },
     "execution_count": 57,
     "metadata": {},
     "output_type": "execute_result"
    }
   ],
   "source": [
    "v"
   ]
  },
  {
   "cell_type": "code",
   "execution_count": 60,
   "id": "62b82f34-bb0e-4a72-8796-df0fc90cf657",
   "metadata": {},
   "outputs": [
    {
     "name": "stdout",
     "output_type": "stream",
     "text": [
      "<class 'tensorflow.python.framework.sparse_tensor.SparseTensor'>\n"
     ]
    }
   ],
   "source": []
  },
  {
   "cell_type": "code",
   "execution_count": null,
   "id": "298c9abd-a65a-4dfc-92f4-5b8add9d1a85",
   "metadata": {},
   "outputs": [],
   "source": []
  }
 ],
 "metadata": {
  "kernelspec": {
   "display_name": "Python 3 (ipykernel)",
   "language": "python",
   "name": "python3"
  },
  "language_info": {
   "codemirror_mode": {
    "name": "ipython",
    "version": 3
   },
   "file_extension": ".py",
   "mimetype": "text/x-python",
   "name": "python",
   "nbconvert_exporter": "python",
   "pygments_lexer": "ipython3",
   "version": "3.10.12"
  }
 },
 "nbformat": 4,
 "nbformat_minor": 5
}
